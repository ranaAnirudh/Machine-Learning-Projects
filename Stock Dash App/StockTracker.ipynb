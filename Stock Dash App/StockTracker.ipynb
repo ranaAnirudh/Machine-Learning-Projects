{
 "cells": [
  {
   "cell_type": "code",
   "execution_count": 1,
   "metadata": {},
   "outputs": [],
   "source": [
    "import dash\n",
    "import dash_core_components  as dcc\n",
    "import dash_html_components as html\n",
    "from datetime import datetime as dt\n",
    "import plotly.express as px\n",
    "import yfinance as yf\n",
    "import pandas as pd\n",
    "from dash.dependencies import Input,Output,State\n",
    "from dash.exceptions import PreventUpdate\n",
    "#import sys\n",
    "from sklearn.svm import SVR\n",
    "import plotly.graph_objs as go\n",
    "from model import prediction"
   ]
  },
  {
   "cell_type": "code",
   "execution_count": 2,
   "metadata": {},
   "outputs": [],
   "source": [
    "def get_stock_price_fig(df):\n",
    "\n",
    "    fig = px.line(df,\n",
    "                  x=\"Date\",\n",
    "                  y=[\"Close\", \"Open\"],\n",
    "                  title=\"Closing and Openning Price vs Date ($USD)\")\n",
    "\n",
    "    return fig"
   ]
  },
  {
   "cell_type": "code",
   "execution_count": 3,
   "metadata": {},
   "outputs": [],
   "source": [
    "def get_stock_price_candle_fig(df):\n",
    "    fig = go.Figure(data=[go.Candlestick(x=df['Date'],\n",
    "                open=df['Open'],\n",
    "                high=df['High'],\n",
    "                low=df['Low'],\n",
    "                close=df['Close'],\n",
    "               )])\n",
    "    fig.update_layout(title_text=\"Candlestick chart ($USD) \",\n",
    "                 title={\n",
    "                    'y':0.9,\n",
    "                    'x':0.5,\n",
    "                    'xanchor': 'center',\n",
    "                    'yanchor': 'top'},\n",
    "                  xaxis_rangeslider_visible=True, \n",
    "                  xaxis_title=\"Time\", \n",
    "                  yaxis_title=\"Data\"\n",
    "                 )\n",
    "    return fig"
   ]
  },
  {
   "cell_type": "code",
   "execution_count": 4,
   "metadata": {},
   "outputs": [],
   "source": [
    "def get_more(df):\n",
    "    df['EWA_20'] = df['Close'].ewm(span=20, adjust=False).mean()\n",
    "    fig = px.scatter(df,\n",
    "                     x=\"Date\",\n",
    "                     y=\"EWA_20\",\n",
    "                     title=\"Exponential Moving Average vs Date ($USD)\")\n",
    "    fig.update_traces(mode='lines+markers')\n",
    "    return fig"
   ]
  },
  {
   "cell_type": "code",
   "execution_count": 5,
   "metadata": {},
   "outputs": [],
   "source": [
    "#print(sys)\n",
    "app = dash.Dash(\n",
    "    __name__,\n",
    "    external_stylesheets=[\n",
    "        \"https://fonts.googleapis.com/css2?family=Roboto&display=swap\"\n",
    "    ])\n",
    "server = app.server"
   ]
  },
  {
   "cell_type": "code",
   "execution_count": 6,
   "metadata": {},
   "outputs": [],
   "source": [
    "app.layout = html.Div(\n",
    "    [\n",
    "        html.Div(\n",
    "            [\n",
    "                # Navigation\n",
    "#                 html.P(\"Welcome to the Stock Dash App!\", className=\"start\"),\n",
    "                html.Div([\n",
    "                    html.P(\"Input stock code: \"),\n",
    "                    html.Div([\n",
    "                        dcc.Input(id=\"dropdown_tickers\", type=\"text\"),\n",
    "                        html.Button(\"Submit\", id='submit'),\n",
    "                    ],\n",
    "                             className=\"form\")\n",
    "                ],\n",
    "                         className=\"input-place\"),\n",
    "                html.Div([\n",
    "                    dcc.DatePickerRange(id='my-date-picker-range',\n",
    "                                        min_date_allowed=dt(1995, 8, 5),\n",
    "                                        max_date_allowed=dt.now(),\n",
    "                                        initial_visible_month=dt.now(),\n",
    "                                        end_date=dt.now().date()),\n",
    "                ],\n",
    "                         className=\"date\"),\n",
    "                html.Div([\n",
    "                    html.Button(\n",
    "                        \"Stock Price\", className=\"stock-btn\", id=\"stock\"),\n",
    "                    html.Button(\n",
    "                        \"Candle Chart\", className=\"stock-btn\", id=\"stock-candle\"),\n",
    "                    html.Button(\"Indicators\",\n",
    "                                className=\"indicators-btn\",\n",
    "                                id=\"indicators\"),\n",
    "                    html.Div([dcc.Input(id=\"n_days\",\n",
    "                              type=\"text\",\n",
    "                              placeholder=\"number of days\"),\n",
    "                    html.Button(\n",
    "                        \"Forecast\", className=\"forecast-btn\", id=\"forecast\")])\n",
    "                ],\n",
    "                         className=\"buttons\"),\n",
    "                # here\n",
    "            ],\n",
    "            className=\"nav\"),\n",
    "\n",
    "        # content\n",
    "        html.Div(\n",
    "            [\n",
    "                html.Div(\n",
    "                    [  # header\n",
    "                        html.Img(id=\"logo\"),\n",
    "                        html.P(id=\"ticker\")\n",
    "                    ],\n",
    "                    className=\"header\"),\n",
    "                html.Div(id=\"description\", className=\"decription_ticker\"),\n",
    "                html.Div([], id=\"graphs-content\"),\n",
    "                html.Div([], id=\"candle-content\"),\n",
    "                html.Div([], id=\"main-content\"),\n",
    "                html.Div([], id=\"forecast-content\")\n",
    "            ],\n",
    "            className=\"content\"),\n",
    "    ],\n",
    "    className=\"container\")\n"
   ]
  },
  {
   "cell_type": "code",
   "execution_count": 7,
   "metadata": {},
   "outputs": [],
   "source": [
    "@app.callback([\n",
    "    Output(\"description\", \"children\"),\n",
    "    Output(\"logo\", \"src\"),\n",
    "    Output(\"ticker\", \"children\"),\n",
    "\n",
    "], [Input(\"submit\", \"n_clicks\")], [State(\"dropdown_tickers\", \"value\")])\n",
    "def update_data(n, val):  # inpur parameter(s)\n",
    "    if n == None:\n",
    "        return \"Hey there! Please enter a legitimate stock code to get details.\", None, None\n",
    "        # raise PreventUpdate\n",
    "    else:\n",
    "        if val == None:\n",
    "            raise PreventUpdate\n",
    "        else:\n",
    "            ticker = yf.Ticker(val)\n",
    "            inf = ticker.info\n",
    "            df = pd.DataFrame().from_dict(inf, orient=\"index\").T\n",
    "            df[['logo_url', 'shortName', 'longBusinessSummary']]\n",
    "            return df['longBusinessSummary'].values[0], df['logo_url'].values[0], df['shortName'].values[0]"
   ]
  },
  {
   "cell_type": "code",
   "execution_count": 8,
   "metadata": {},
   "outputs": [],
   "source": [
    "@app.callback([\n",
    "    Output(\"graphs-content\", \"children\"),\n",
    "], [\n",
    "    Input(\"stock\", \"n_clicks\"),\n",
    "    Input('my-date-picker-range', 'start_date'),\n",
    "    Input('my-date-picker-range', 'end_date')\n",
    "], [State(\"dropdown_tickers\", \"value\")])\n",
    "def stock_price(n, start_date, end_date, val):\n",
    "    if n == None:\n",
    "        return [\"\"]\n",
    "        #raise PreventUpdate\n",
    "    if val == None:\n",
    "        raise PreventUpdate\n",
    "    else:\n",
    "        if start_date != None:\n",
    "            df = yf.download(val, str(start_date), str(end_date))\n",
    "        else:\n",
    "            df = yf.download(val)\n",
    "\n",
    "    df.reset_index(inplace=True)\n",
    "    fig = get_stock_price_fig(df)\n",
    "    return [dcc.Graph(figure=fig)]"
   ]
  },
  {
   "cell_type": "code",
   "execution_count": 9,
   "metadata": {},
   "outputs": [],
   "source": [
    "@app.callback([\n",
    "    Output(\"candle-content\", \"children\"),\n",
    "], [\n",
    "    Input(\"stock-candle\", \"n_clicks\"),\n",
    "    Input('my-date-picker-range', 'start_date'),\n",
    "    Input('my-date-picker-range', 'end_date')\n",
    "], [State(\"dropdown_tickers\", \"value\")])\n",
    "def stock_candle_price(n, start_date, end_date, val):\n",
    "    if n == None:\n",
    "        return [\"\"]\n",
    "        #raise PreventUpdate\n",
    "    if val == None:\n",
    "        raise PreventUpdate\n",
    "    else:\n",
    "        if start_date != None:\n",
    "            df = yf.download(val, str(start_date), str(end_date))\n",
    "        else:\n",
    "            df = yf.download(val)\n",
    "\n",
    "    df.reset_index(inplace=True)\n",
    "    fig = get_stock_price_candle_fig(df)\n",
    "    return [dcc.Graph(figure=fig)]"
   ]
  },
  {
   "cell_type": "code",
   "execution_count": 10,
   "metadata": {},
   "outputs": [],
   "source": [
    "@app.callback([Output(\"main-content\", \"children\")], [\n",
    "    Input(\"indicators\", \"n_clicks\"),\n",
    "    Input('my-date-picker-range', 'start_date'),\n",
    "    Input('my-date-picker-range', 'end_date')\n",
    "], [State(\"dropdown_tickers\", \"value\")])\n",
    "def indicators(n, start_date, end_date, val):\n",
    "    if n == None:\n",
    "        return [\"\"]\n",
    "    if val == None:\n",
    "        return [\"\"]\n",
    "\n",
    "    if start_date == None:\n",
    "        df_more = yf.download(val)\n",
    "    else:\n",
    "        df_more = yf.download(val, str(start_date), str(end_date))\n",
    "\n",
    "    df_more.reset_index(inplace=True)\n",
    "    fig = get_more(df_more)\n",
    "    return [dcc.Graph(figure=fig)]"
   ]
  },
  {
   "cell_type": "code",
   "execution_count": 11,
   "metadata": {},
   "outputs": [],
   "source": [
    "# callback for forecast\n",
    "@app.callback([Output(\"forecast-content\", \"children\")],\n",
    "              [Input(\"forecast\", \"n_clicks\")],\n",
    "              [State(\"n_days\", \"value\"),\n",
    "               State(\"dropdown_tickers\", \"value\")])\n",
    "def forecast(n, n_days, val):\n",
    "    if n == None:\n",
    "        return [\"\"]\n",
    "    if val == None:\n",
    "        raise PreventUpdate\n",
    "    fig = prediction(val, int(n_days) + 1)\n",
    "    return [dcc.Graph(figure=fig)]"
   ]
  },
  {
   "cell_type": "code",
   "execution_count": null,
   "metadata": {},
   "outputs": [
    {
     "name": "stdout",
     "output_type": "stream",
     "text": [
      "Dash is running on http://127.0.0.1:8050/\n",
      "\n",
      " * Serving Flask app \"__main__\" (lazy loading)\n",
      " * Environment: production\n",
      "   WARNING: This is a development server. Do not use it in a production deployment.\n",
      "   Use a production WSGI server instead.\n",
      " * Debug mode: on\n"
     ]
    }
   ],
   "source": [
    "if __name__=='__main__':\n",
    "    app.run_server(debug=True, use_reloader=False)"
   ]
  },
  {
   "cell_type": "code",
   "execution_count": null,
   "metadata": {},
   "outputs": [],
   "source": []
  },
  {
   "cell_type": "code",
   "execution_count": null,
   "metadata": {},
   "outputs": [],
   "source": []
  }
 ],
 "metadata": {
  "kernelspec": {
   "display_name": "Python 3",
   "language": "python",
   "name": "python3"
  },
  "language_info": {
   "codemirror_mode": {
    "name": "ipython",
    "version": 3
   },
   "file_extension": ".py",
   "mimetype": "text/x-python",
   "name": "python",
   "nbconvert_exporter": "python",
   "pygments_lexer": "ipython3",
   "version": "3.8.5"
  }
 },
 "nbformat": 4,
 "nbformat_minor": 4
}
